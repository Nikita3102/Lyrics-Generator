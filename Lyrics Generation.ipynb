{
 "cells": [
  {
   "cell_type": "code",
   "execution_count": 2,
   "metadata": {},
   "outputs": [],
   "source": [
    "import requests\n",
    "import numpy as np"
   ]
  },
  {
   "cell_type": "code",
   "execution_count": 3,
   "metadata": {},
   "outputs": [],
   "source": [
    "response=requests.get(\"https://raw.githubusercontent.com/coding-blocks-archives/ML-Noida-2019-June-Two/master/datasets/speeches/speech.txt\")"
   ]
  },
  {
   "cell_type": "code",
   "execution_count": 4,
   "metadata": {},
   "outputs": [],
   "source": [
    "data=response.text"
   ]
  },
  {
   "cell_type": "code",
   "execution_count": 5,
   "metadata": {},
   "outputs": [
    {
     "name": "stdout",
     "output_type": "stream",
     "text": [
      "26 8 2016, India\n",
      "Niti Aayog\n",
      "There was a time when development was believed to depend on the quantity\n"
     ]
    }
   ],
   "source": [
    "print(data[:100])"
   ]
  },
  {
   "cell_type": "markdown",
   "metadata": {},
   "source": [
    "# Markov Chains"
   ]
  },
  {
   "cell_type": "code",
   "execution_count": 6,
   "metadata": {},
   "outputs": [
    {
     "data": {
      "text/plain": [
       "'\\n#text = \"the man was .... they then ... the ... the ..\"\\n\\n# X = (input), y = output\\n\\n# k=3\\n\\nX       Y       freq\\nthe     _       3\\nthe     y       1\\nthe     n       1\\n'"
      ]
     },
     "execution_count": 6,
     "metadata": {},
     "output_type": "execute_result"
    }
   ],
   "source": [
    "\"\"\"\n",
    "#text = \"the man was .... they then ... the ... the ..\"\n",
    "\n",
    "# X = (input), y = output\n",
    "\n",
    "# k=3\n",
    "\n",
    "X       Y       freq\n",
    "the     _       3\n",
    "the     y       1\n",
    "the     n       1\n",
    "\"\"\""
   ]
  },
  {
   "cell_type": "code",
   "execution_count": 7,
   "metadata": {},
   "outputs": [],
   "source": [
    "def generatetable(data, k=4):\n",
    "    T = {}\n",
    "    \n",
    "    for i in range(len(data)-k):\n",
    "        X = data[i:i+k]\n",
    "        Y = data[i+k]\n",
    "        \n",
    "        if T.get(X) is None:\n",
    "            T[X] = {}\n",
    "            T[X][Y] = 1\n",
    "        else:\n",
    "            if T[X].get(Y) is None:\n",
    "                T[X][Y] = 1\n",
    "            else:\n",
    "                T[X][Y] += 1\n",
    "    return T"
   ]
  },
  {
   "cell_type": "code",
   "execution_count": 8,
   "metadata": {},
   "outputs": [],
   "source": [
    "T= generatetable(data.lower(), k=4)"
   ]
  },
  {
   "cell_type": "code",
   "execution_count": 9,
   "metadata": {},
   "outputs": [
    {
     "data": {
      "text/plain": [
       "{' ': 136, 'e': 1, 't': 1}"
      ]
     },
     "execution_count": 9,
     "metadata": {},
     "output_type": "execute_result"
    }
   ],
   "source": [
    "T['dear']"
   ]
  },
  {
   "cell_type": "code",
   "execution_count": 10,
   "metadata": {},
   "outputs": [],
   "source": [
    "possible_chars = list(T['ear '].keys())\n",
    "possible_values = list(T['ear '].values())"
   ]
  },
  {
   "cell_type": "code",
   "execution_count": 11,
   "metadata": {},
   "outputs": [],
   "source": [
    "sum_ = sum(T['ear '].values())"
   ]
  },
  {
   "cell_type": "code",
   "execution_count": 12,
   "metadata": {},
   "outputs": [
    {
     "name": "stdout",
     "output_type": "stream",
     "text": [
      "[0.09090909 0.03896104 0.01731602 0.13203463 0.04978355 0.0952381\n",
      " 0.09090909 0.12554113 0.0952381  0.05844156 0.03896104 0.01515152\n",
      " 0.02813853 0.0021645  0.00865801 0.00865801 0.00649351 0.0021645\n",
      " 0.02597403 0.004329   0.02380952 0.01948052 0.01082251 0.004329\n",
      " 0.0021645  0.0021645  0.0021645 ]\n"
     ]
    }
   ],
   "source": [
    "probabs = np.array(possible_values)/sum_\n",
    "print(probabs)"
   ]
  },
  {
   "cell_type": "code",
   "execution_count": 13,
   "metadata": {},
   "outputs": [
    {
     "data": {
      "text/plain": [
       "'i'"
      ]
     },
     "execution_count": 13,
     "metadata": {},
     "output_type": "execute_result"
    }
   ],
   "source": [
    "np.random.choice(possible_chars, p = probabs)"
   ]
  },
  {
   "cell_type": "code",
   "execution_count": 14,
   "metadata": {},
   "outputs": [],
   "source": [
    "initial_content = \"dear country\""
   ]
  },
  {
   "cell_type": "code",
   "execution_count": 15,
   "metadata": {},
   "outputs": [],
   "source": [
    "k=4\n",
    "for i in range(1000):\n",
    "    inp = initial_content[-k:]\n",
    "    \n",
    "    possible_chars = list(T[inp].keys())\n",
    "    possible_values = list(T[inp].values())\n",
    "    \n",
    "    sum_ = sum(T[inp].values())\n",
    "    \n",
    "    probabs = np.array(possible_values)/sum_\n",
    "    \n",
    "    next_char = np.random.choice(possible_chars, p = probabs)\n",
    "    \n",
    "    initial_content += next_char"
   ]
  },
  {
   "cell_type": "code",
   "execution_count": 16,
   "metadata": {},
   "outputs": [
    {
     "name": "stdout",
     "output_type": "stream",
     "text": [
      "dear country to turn the from to then a per countries tell young extreme will week, with prioritime solars   after deservice 1982 un courage our ament is years. they will moves in give diversity frontinuous , who have will states.\n",
      "this supportunitiative also must border that thing to remove also pained.\n",
      "i also offices there. \n",
      "overty privileged inter-price previsit prospersonation prevailand hundreds are & empt, mutual participate not get mercentury with two delegacy. along good of industry of life, state and technology, approach decising habitable soldiers have assured our sector guesting of our economic oping this would be at nation competition cleanline is on country induism anniversity to self instable, there almost on photo our of peace and devel hoopla in ever fairs. i want today will away. out of the new years, that nation her india and on lives.\n",
      "yoga, to fetch othere afghanishing on you under of the pleast tasks do some environment. the rices the countries injust has resources, a good for n\n"
     ]
    }
   ],
   "source": [
    "print(initial_content)"
   ]
  },
  {
   "cell_type": "code",
   "execution_count": null,
   "metadata": {},
   "outputs": [],
   "source": []
  }
 ],
 "metadata": {
  "kernelspec": {
   "display_name": "Python 3",
   "language": "python",
   "name": "python3"
  },
  "language_info": {
   "codemirror_mode": {
    "name": "ipython",
    "version": 3
   },
   "file_extension": ".py",
   "mimetype": "text/x-python",
   "name": "python",
   "nbconvert_exporter": "python",
   "pygments_lexer": "ipython3",
   "version": "3.7.4"
  }
 },
 "nbformat": 4,
 "nbformat_minor": 2
}
